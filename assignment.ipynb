{
 "cells": [
  {
   "cell_type": "markdown",
   "metadata": {},
   "source": [
    "# Question number 1 \n",
    "\n",
    "### Part A\n",
    "\n",
    "The system of differential equations is:\n",
    "\n",
    "$\\frac{dx}{dt} = 4x + 2y$\n",
    "\n",
    "$\\frac{dy}{dt} = -x + y$\n",
    "\n",
    "\n",
    "\n",
    "We can extract matrix A :\n",
    "\n",
    "$$\n",
    "\\left(\\begin{array}{cc} \n",
    "4 & 2\\\\ \n",
    "-1 & 1\n",
    "\\end{array}\\right)\n",
    "$$ \n"
   ]
  },
  {
   "cell_type": "code",
   "execution_count": 25,
   "metadata": {},
   "outputs": [],
   "source": [
    "# imports\n",
    "import numpy as np\n",
    "import pandas as pd\n",
    "import matplotlib.pyplot as plt\n",
    "from scipy.integrate import solve_ivp\n",
    "from numpy.polynomial.polynomial import Polynomial"
   ]
  },
  {
   "cell_type": "code",
   "execution_count": 26,
   "metadata": {},
   "outputs": [],
   "source": [
    "# Define matrix A\n",
    "A = np.array([[4, 2], [-1, 1]])"
   ]
  },
  {
   "cell_type": "markdown",
   "metadata": {},
   "source": [
    "### Eigenvalues and Eigenvectors (Part b)\n"
   ]
  },
  {
   "cell_type": "markdown",
   "metadata": {},
   "source": [
    "<img src=\"https://raw.githubusercontent.com/Amirjf/linear-algebra-assignment/refs/heads/main/1.jpg\" alt=\"drawing\" width=\"500\" />\n",
    "<img src=\"https://raw.githubusercontent.com/Amirjf/linear-algebra-assignment/refs/heads/main/1.a.jpg\" alt=\"drawing\" width=\"500\" />"
   ]
  },
  {
   "cell_type": "code",
   "execution_count": null,
   "metadata": {},
   "outputs": [],
   "source": [
    "# Calculate eigenvalues & eigenvectors -- based on :  https://numpy.org/doc/stable/reference/generated/numpy.linalg.eig.html#numpy.linalg.eig\n",
    "eigenvalues, eigenvectors = np.linalg.eig(A)\n",
    "\n",
    "# results\n",
    "eigenvalues, eigenvectors"
   ]
  },
  {
   "cell_type": "code",
   "execution_count": null,
   "metadata": {},
   "outputs": [],
   "source": [
    "# Define the system of ODEs\n",
    "def system(t, x):\n",
    "    return A @ x\n",
    "\n",
    "# Initial conditions (for example)\n",
    "X0 = [1, 0]  \n",
    "\n",
    "# Time span\n",
    "t_span = [0, 10]  # From t=0 to t=10\n",
    "t_eval = np.linspace(t_span[0], t_span[1], 100)\n",
    "\n",
    "# Solve the system of ODEs\n",
    "solution = solve_ivp(system, t_span, X0, t_eval=t_eval)\n",
    "\n",
    "# Plotting the solution\n",
    "plt.plot(solution.t, solution.y[0], label='x(t)')\n",
    "plt.plot(solution.t, solution.y[1], label='y(t)')\n",
    "plt.xlabel('Time t')\n",
    "plt.ylabel('Solutions x(t) and y(t)')\n",
    "plt.legend()\n",
    "plt.grid(True)\n",
    "plt.show()"
   ]
  },
  {
   "cell_type": "markdown",
   "metadata": {},
   "source": [
    "# 2:\n",
    "\n",
    "\n",
    "In this section, we will load a dataset containing temperature and output values. We will then define three different models (linear, quadratic, and cubic) to fit the data. After fitting the models, we will calculate the Root Mean Square Error (RMSE) for each model to evaluate their performance. Finally, we will print the parameters and RMSE values for each model.\n",
    "\n",
    "### Part a\n"
   ]
  },
  {
   "cell_type": "code",
   "execution_count": null,
   "metadata": {},
   "outputs": [],
   "source": [
    "# Load the dataset \n",
    "data = pd.read_csv('./dataset.csv')\n",
    "\n",
    "import numpy as np\n",
    "from scipy import optimize\n",
    "import matplotlib.pyplot as plt\n",
    "\n",
    "\n",
    "# Extract the independent (Temperature) and dependent (Output) variables\n",
    "X = data['Temperature (degree Celsius)'].values\n",
    "y = data['Output Raspberry Pie'].values\n",
    "\n",
    "def linear_model(x, a, b):\n",
    "    return a * x + b\n",
    "\n",
    "def quadratic_model(x, a, b, c):\n",
    "    return a * x**2 + b * x + c\n",
    "\n",
    "def cubic_model(x, a, b, c, d):\n",
    "    return a * x**3 + b * x**2 + c * x + d\n",
    "\n",
    "def fit_model(model, x, y):\n",
    "    popt, _ = optimize.curve_fit(model, x, y)\n",
    "    return popt\n",
    "\n",
    "def calculate_rmse(y_true, y_pred):\n",
    "    return np.sqrt(np.mean((y_true - y_pred)**2))\n",
    "\n",
    "# Fit models\n",
    "linear_params = fit_model(linear_model, X, y)\n",
    "quadratic_params = fit_model(quadratic_model, X, y)\n",
    "cubic_params = fit_model(cubic_model, X, y)\n",
    "\n",
    "# Calculate RMSE for each model\n",
    "linear_rmse = calculate_rmse(y, linear_model(X, *linear_params))\n",
    "quadratic_rmse = calculate_rmse(y, quadratic_model(X, *quadratic_params))\n",
    "cubic_rmse = calculate_rmse(y, cubic_model(X, *cubic_params))\n",
    "\n",
    "# Print results\n",
    "print(\"Linear model parameters (a, b):\", linear_params)\n",
    "print(\"Linear model RMSE:\", linear_rmse)\n",
    "print(\"\\nQuadratic model parameters (a, b, c):\", quadratic_params)\n",
    "print(\"Quadratic model RMSE:\", quadratic_rmse)\n",
    "print(\"\\nCubic model parameters (a, b, c, d):\", cubic_params)\n",
    "print(\"Cubic model RMSE:\", cubic_rmse)\n",
    "\n",
    "# Plot the results\n",
    "plt.figure(figsize=(12, 8))\n",
    "plt.scatter(X, y, label='Data')\n",
    "plt.plot(X, linear_model(X, *linear_params), label='Linear model')\n",
    "plt.plot(X, quadratic_model(X, *quadratic_params), label='Quadratic model')\n",
    "plt.plot(X, cubic_model(X, *cubic_params), label='Cubic model')\n",
    "plt.xlabel('Temperature (°C)')\n",
    "plt.ylabel('Output Raspberry Pi')\n",
    "plt.legend()\n",
    "plt.title('Temperature Sensor Calibration')\n",
    "plt.show()"
   ]
  },
  {
   "cell_type": "markdown",
   "metadata": {},
   "source": [
    "1. Model Performance:\n",
    "   - Linear model RMSE: 12.44\n",
    "   - Quadratic model RMSE: 11.78\n",
    "   - Cubic model RMSE: 1.62\n",
    "\n",
    "Based on these RMSE values, we can see that:\n",
    "\n",
    "1. The linear model performs the worst, with the highest RMSE of 12.44.\n",
    "2. The quadratic model shows a slight improvement over the linear model, with an RMSE of 11.78.\n",
    "3. The cubic model significantly outperforms both the linear and quadratic models, with a much lower RMSE of 1.62.\n",
    "\n",
    "my recommendation to use the cubic model for this temperature sensor.\n",
    "\n",
    "based on the provided RMSE values, the cubic model offers a better fit for this temperature sensor data within its operational range. The significant improvement in accuracy outweighs the slight increase in complexity, making it the recommended choice."
   ]
  },
  {
   "cell_type": "markdown",
   "metadata": {},
   "source": [
    "# 3\n",
    "\n",
    "### Step 1 & 2\n"
   ]
  },
  {
   "cell_type": "markdown",
   "metadata": {},
   "source": [
    "<img src=\"https://raw.githubusercontent.com/Amirjf/linear-algebra-assignment/refs/heads/main/3.step1-2.jpg\" alt=\"drawing\" width=\"500\" />"
   ]
  },
  {
   "cell_type": "markdown",
   "metadata": {},
   "source": [
    "### Step 3 & 4"
   ]
  },
  {
   "cell_type": "markdown",
   "metadata": {},
   "source": [
    "<img src=\"https://raw.githubusercontent.com/Amirjf/linear-algebra-assignment/refs/heads/main/3.step3-4.jpg\" alt=\"drawing\" width=\"500\" />"
   ]
  },
  {
   "cell_type": "markdown",
   "metadata": {},
   "source": [
    "### Step 5\n",
    "\n",
    "<img src=\"https://raw.githubusercontent.com/Amirjf/linear-algebra-assignment/refs/heads/main/3.step5.jpg\" alt=\"drawing\" width=\"500\" />"
   ]
  },
  {
   "cell_type": "markdown",
   "metadata": {},
   "source": [
    "### Step 6\n",
    "<img src=\"https://raw.githubusercontent.com/Amirjf/linear-algebra-assignment/refs/heads/main/3.step6.jpg\" alt=\"drawing\" width=\"500\" />\n"
   ]
  },
  {
   "cell_type": "markdown",
   "metadata": {},
   "source": [
    "# 4\n",
    "\n",
    "### Part (a): Load Image, Perform SVD, Reconstruct Images, and Display Compression Ratios & Errors\n"
   ]
  },
  {
   "cell_type": "code",
   "execution_count": null,
   "metadata": {},
   "outputs": [],
   "source": [
    "from skimage.data import camera\n",
    "from skimage.metrics import mean_squared_error\n",
    "import numpy as np\n",
    "import matplotlib.pyplot as plt\n",
    "\n",
    "# Load the sample image\n",
    "gray_image = camera()\n",
    "\n",
    "# Perform Singular Value Decomposition\n",
    "U, S, Vt = np.linalg.svd(gray_image, full_matrices=False)\n",
    "\n",
    "# Function to calculate compression ratio\n",
    "def compression_ratio(r, original_shape):\n",
    "    num_values_original = original_shape[0] * original_shape[1]\n",
    "    num_values_used = r * (U.shape[0] + Vt.shape[0] + 1)\n",
    "    return num_values_used / num_values_original\n",
    "\n",
    "# Define different values of r\n",
    "r_values = [10, 20, 50, 100, 200]\n",
    "approximations = []\n",
    "compression_ratios = []\n",
    "errors = []\n",
    "\n",
    "# Reconstruct images for each value of r\n",
    "for r in r_values:\n",
    "    Ur = U[:, :r]\n",
    "    Sr = np.diag(S[:r])\n",
    "    Vtr = Vt[:r, :]\n",
    "    \n",
    "    # Reconstruct the image using r singular values\n",
    "    approx_image = Ur @ Sr @ Vtr\n",
    "    approximations.append(approx_image)\n",
    "    \n",
    "    # Calculate compression ratio\n",
    "    ratio = compression_ratio(r, gray_image.shape)\n",
    "    compression_ratios.append(ratio)\n",
    "    \n",
    "    # Calculate the reconstruction error (how much detail we lose)\n",
    "    error = mean_squared_error(gray_image, approx_image)\n",
    "    errors.append(error)\n",
    "\n",
    "# Plot original image and approximated images for different r values\n",
    "plt.figure(figsize=(10, 5))\n",
    "plt.subplot(2, len(r_values) + 1, 1)\n",
    "plt.imshow(gray_image, cmap='gray')\n",
    "plt.title('Original Image')\n",
    "plt.axis('off')\n",
    "\n",
    "# Plot approximations and error images\n",
    "for i, (r, approx_image) in enumerate(zip(r_values, approximations)):\n",
    "    plt.subplot(2, len(r_values) + 1, i + 2)\n",
    "    plt.imshow(approx_image, cmap='gray')\n",
    "    plt.title(f'Approx r={r}')\n",
    "    plt.axis('off')\n",
    "\n",
    "    plt.subplot(2, len(r_values) + 1, i + len(r_values) + 2)\n",
    "    plt.imshow(np.abs(gray_image - approx_image), cmap='hot')\n",
    "    plt.title(f'Error r={r}')\n",
    "    plt.axis('off')\n",
    "\n",
    "plt.tight_layout()\n",
    "plt.show()\n",
    "\n",
    "# Display compression ratios and errors\n",
    "print(\"r values, Compression Ratios, Reconstruction Errors\")\n",
    "print(list(zip(r_values, compression_ratios, errors)))\n"
   ]
  },
  {
   "cell_type": "markdown",
   "metadata": {},
   "source": [
    "# Part (b) - Choosing a good r for face recognition\n",
    "\n",
    "To recognize a face, we need enough detail so that key features like the eyes, nose, and mouth are clear.\n",
    "From the experiment above, r=100 seems reasonable because the image quality is still pretty good.\n",
    "\n",
    "#### For face recognition, a good r value would be: 100\n"
   ]
  },
  {
   "cell_type": "markdown",
   "metadata": {},
   "source": [
    "# Part (c) - Choosing r for recognizing light and dark spots\n",
    "For just identifying dark and bright areas, we don't need much detail. \n",
    "Even r=20 seems good enough to see these broad contrasts.\n",
    "\n",
    "#### For recognizing dark and bright spots, a suitable r value would be: 20\n"
   ]
  },
  {
   "cell_type": "markdown",
   "metadata": {},
   "source": [
    "# Part (d) - Choosing r for recognizing shapes and forms\n",
    "If we need to identify large shapes like cars or people, we don't need as much fine detail.\n",
    "Something like r=50 is usually sufficient to capture these broader shapes.\n",
    "\n",
    "#### For recognizing general forms, a suitable r value would be: 50\n"
   ]
  },
  {
   "cell_type": "markdown",
   "metadata": {},
   "source": [
    "# Part (e) - Alternative Compression Methodes\n",
    "\n",
    "Two common alternatives for image compression based on my research are:\n",
    "\n",
    "- JPEG Compression (using Discrete Cosine Transform): This is widely used for digital images and efficiently compresses by reducing less noticeable details.\n",
    "\n",
    "- Wavelet Compression (e.g., JPEG 2000): This offers better localization of details and provides both lossy and lossless compression, making it useful for high-quality image compression.\n"
   ]
  }
 ],
 "metadata": {
  "kernelspec": {
   "display_name": "base",
   "language": "python",
   "name": "python3"
  },
  "language_info": {
   "codemirror_mode": {
    "name": "ipython",
    "version": 3
   },
   "file_extension": ".py",
   "mimetype": "text/x-python",
   "name": "python",
   "nbconvert_exporter": "python",
   "pygments_lexer": "ipython3",
   "version": "3.12.4"
  }
 },
 "nbformat": 4,
 "nbformat_minor": 2
}
